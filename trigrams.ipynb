{
 "cells": [
  {
   "cell_type": "markdown",
   "metadata": {},
   "source": [
    "#Task One:  "
   ]
  },
  {
   "cell_type": "markdown",
   "metadata": {},
   "source": [
    "###Imports:"
   ]
  },
  {
   "cell_type": "code",
   "execution_count": 8,
   "metadata": {},
   "outputs": [],
   "source": [
    "import re\n",
    "from collections import defaultdict\n",
    "import glob\n"
   ]
  },
  {
   "cell_type": "markdown",
   "metadata": {},
   "source": [
    "###Functions:"
   ]
  },
  {
   "cell_type": "code",
   "execution_count": 9,
   "metadata": {},
   "outputs": [],
   "source": [
    "def preprocess_text(text):\n",
    "    \"\"\"Preprocess the text by removing unwanted characters and converting to uppercase.\"\"\"\n",
    "    # Retain only letters, spaces, and full stops, and convert to uppercase\n",
    "    processed_text = re.sub(r'[^A-Z\\s.]', '', text.upper())\n",
    "    return processed_text"
   ]
  },
  {
   "cell_type": "code",
   "execution_count": 10,
   "metadata": {},
   "outputs": [],
   "source": [
    "# Corrected trigram building function\n",
    "def build_trigram_model(text, trigram_counts):\n",
    "    \"\"\"Build a trigram model from the preprocessed text.\"\"\"\n",
    "    for i in range(len(text) - 2):\n",
    "        trigram = text[i:i+3]  # Get each trigram (sequence of 3 characters)\n",
    "        trigram_counts[trigram] += 1"
   ]
  },
  {
   "cell_type": "code",
   "execution_count": 11,
   "metadata": {},
   "outputs": [],
   "source": [
    "def process_multiple_files(file_paths):\n",
    "    \"\"\"Process multiple text files and build a combined trigram model.\"\"\"\n",
    "    combined_trigram_counts = defaultdict(int)\n",
    "\n",
    "    for file_path in file_paths:\n",
    "        print(f\"Processing file: {file_path}\")\n",
    "        with open(file_path, 'r', encoding='utf-8') as file:\n",
    "            text = file.read()\n",
    "            processed_text = preprocess_text(text)\n",
    "            build_trigram_model(processed_text, combined_trigram_counts)\n",
    "    \n",
    "    return combined_trigram_counts"
   ]
  },
  {
   "cell_type": "code",
   "execution_count": 12,
   "metadata": {},
   "outputs": [],
   "source": [
    "def display_top_trigrams(trigram_counts, top_n=10):\n",
    "    \"\"\"Display the top N most frequent trigrams.\"\"\"\n",
    "    sorted_trigrams = sorted(trigram_counts.items(), key=lambda item: item[1], reverse=True)\n",
    "    print(f\"\\nTop {top_n} most frequent trigrams:\")\n",
    "    for trigram, count in sorted_trigrams[:top_n]:\n",
    "        print(f\"'{trigram}': {count}\")"
   ]
  },
  {
   "cell_type": "code",
   "execution_count": 13,
   "metadata": {},
   "outputs": [
    {
     "name": "stdout",
     "output_type": "stream",
     "text": [
      "Processing file: output.txt\n",
      "Processing file: input.txt\n",
      "\n",
      "Top 20 most frequent trigrams:\n",
      "'PYT': 4\n",
      "'YTH': 4\n",
      "'THO': 4\n",
      "'HON': 4\n",
      "'. \n",
      "': 3\n",
      "'HEL': 3\n",
      "'ELL': 3\n",
      "'LLO': 3\n",
      "'LO ': 3\n",
      "'GRE': 2\n",
      "'REA': 2\n",
      "'EAT': 2\n",
      "'AT.': 2\n",
      "'IS ': 2\n",
      "' \n",
      "P': 2\n",
      "'\n",
      "PY': 2\n",
      "'ON ': 2\n",
      "'ON.': 2\n",
      "'N. ': 2\n",
      "'WOR': 2\n"
     ]
    }
   ],
   "source": [
    "# Step 1: Download and save 5 text files in the current directory\n",
    "\n",
    "# Step 2: Get the file paths for the text files\n",
    "file_paths = glob.glob('*.txt')  # Gets all .txt files in the current directory\n",
    "\n",
    "# Step 3: Process the text files to build a trigram model\n",
    "trigrams = process_multiple_files(file_paths)\n",
    "\n",
    "# Step 4: Display the most frequent trigrams\n",
    "display_top_trigrams(trigrams, top_n=20)\n",
    "\n",
    "# Step 5: Save the trigram model to a JSON file for future use\n",
    "import json\n",
    "with open('trigrams.json', 'w') as json_file:\n",
    "    json.dump(trigrams, json_file, indent=4)"
   ]
  },
  {
   "cell_type": "code",
   "execution_count": 14,
   "metadata": {},
   "outputs": [
    {
     "name": "stdout",
     "output_type": "stream",
     "text": [
      "'GRE': 2\n",
      "'REA': 2\n",
      "'EAT': 2\n",
      "'AT.': 2\n",
      "'T. ': 1\n",
      "'. \n",
      "': 3\n",
      "' \n",
      "H': 1\n",
      "'\n",
      "HE': 1\n",
      "'HEL': 3\n",
      "'ELL': 3\n",
      "'LLO': 3\n",
      "'LO ': 3\n",
      "'O \n",
      "': 1\n",
      "' \n",
      "I': 1\n",
      "'\n",
      "IS': 1\n",
      "'IS ': 2\n",
      "'S \n",
      "': 1\n",
      "' \n",
      "P': 2\n",
      "'\n",
      "PY': 2\n",
      "'PYT': 4\n",
      "'YTH': 4\n",
      "'THO': 4\n",
      "'HON': 4\n",
      "'ON ': 2\n",
      "'N \n",
      "': 1\n",
      "'ON.': 2\n",
      "'N. ': 2\n",
      "' \n",
      "W': 1\n",
      "'\n",
      "WO': 1\n",
      "'WOR': 2\n",
      "'ORL': 2\n",
      "'RLD': 2\n",
      "'LD.': 2\n",
      "'D. ': 2\n",
      "'O W': 1\n",
      "' WO': 1\n",
      "'. H': 1\n",
      "' HE': 1\n",
      "'O P': 1\n",
      "' PY': 2\n",
      "'. P': 1\n",
      "'N I': 1\n",
      "' IS': 1\n",
      "'S G': 1\n",
      "' GR': 1\n",
      "'T.\n",
      "': 1\n"
     ]
    }
   ],
   "source": [
    "# Example usage:\n",
    "text = \"\"\"\n",
    "It is what it is. This is an example sentence for building the trigram model.\n",
    "\"\"\"\n",
    "\n",
    "# Preprocess the text\n",
    "processed_text = preprocess_text(text)\n",
    "\n",
    "# Build the trigram model\n",
    "#trigram_model = build_trigram_model(processed_text)\n",
    "\n",
    "# Print the trigram counts\n",
    "for trigram, count in trigrams.items():\n",
    "    print(f\"'{trigram}': {count}\")"
   ]
  },
  {
   "cell_type": "markdown",
   "metadata": {},
   "source": [
    "#Task Two\n",
    "\n",
    "##Generate string"
   ]
  },
  {
   "cell_type": "code",
   "execution_count": null,
   "metadata": {},
   "outputs": [],
   "source": [
    "# Function to generate a string using third-order letter approximation\n",
    "def generate_string(trigram_counts, length=10000):\n",
    "    \"\"\"Generate a string of 'length' characters using third-order letter approximation.\"\"\"\n",
    "    generated_text = \"TH\"  # Start with the string \"TH\"\n",
    "    \n",
    "    while len(generated_text) < length:\n",
    "        last_two = generated_text[-2:]  # Get the last two characters\n",
    "        # Find all trigrams that start with the last two characters\n",
    "        candidates = {trigram: count for trigram, count in trigram_counts.items() if trigram.startswith(last_two)}\n",
    "        \n",
    "        if not candidates:\n",
    "            break  # If no candidates are found, terminate the loop\n",
    "        \n",
    "        # Extract possible third characters and their counts\n",
    "        third_chars = [trigram[2] for trigram in candidates]\n",
    "        counts = [candidates[trigram] for trigram in candidates]\n",
    "        \n",
    "        # Use weighted random choice to select the next character\n",
    "        next_char = random.choices(third_chars, weights=counts)[0]\n",
    "        generated_text += next_char\n",
    "    \n",
    "    return generated_text"
   ]
  },
  {
   "cell_type": "markdown",
   "metadata": {},
   "source": []
  }
 ],
 "metadata": {
  "kernelspec": {
   "display_name": "Python 3",
   "language": "python",
   "name": "python3"
  },
  "language_info": {
   "codemirror_mode": {
    "name": "ipython",
    "version": 3
   },
   "file_extension": ".py",
   "mimetype": "text/x-python",
   "name": "python",
   "nbconvert_exporter": "python",
   "pygments_lexer": "ipython3",
   "version": "3.11.9"
  }
 },
 "nbformat": 4,
 "nbformat_minor": 2
}
