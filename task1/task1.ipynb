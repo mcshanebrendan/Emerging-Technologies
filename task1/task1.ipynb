{
 "cells": [
  {
   "cell_type": "markdown",
   "metadata": {},
   "source": [
    "#Task One:  "
   ]
  },
  {
   "cell_type": "markdown",
   "metadata": {},
   "source": [
    "###Imports:"
   ]
  },
  {
   "cell_type": "code",
   "execution_count": 1,
   "metadata": {},
   "outputs": [],
   "source": [
    "import re\n",
    "from collections import defaultdict\n",
    "import glob\n"
   ]
  },
  {
   "cell_type": "markdown",
   "metadata": {},
   "source": [
    "###Functions:"
   ]
  },
  {
   "cell_type": "code",
   "execution_count": 2,
   "metadata": {},
   "outputs": [],
   "source": [
    "def preprocess_text(text):\n",
    "    \"\"\"Preprocess the text by removing unwanted characters and converting to uppercase.\"\"\"\n",
    "    # Retain only letters, spaces, and full stops, and convert to uppercase\n",
    "    processed_text = re.sub(r'[^A-Z\\s.]', '', text.upper())\n",
    "    return processed_text"
   ]
  },
  {
   "cell_type": "code",
   "execution_count": 3,
   "metadata": {},
   "outputs": [],
   "source": [
    "def build_trigram_model(text):\n",
    "    \"\"\"Build a trigram model from the preprocessed text.\"\"\"\n",
    "    trigram_counts = defaultdict(int)  # Use defaultdict to avoid key errors\n",
    "\n",
    "    # Loop through the text and count trigrams\n",
    "    for i in range(len(text) - 2):\n",
    "        trigram = text[i:i+3]  # Get each trigram (sequence of 3 characters)\n",
    "        trigram_counts[trigram] += 1\n",
    "\n",
    "    return trigram_counts"
   ]
  },
  {
   "cell_type": "markdown",
   "metadata": {},
   "source": [
    "def process_multiple_files(file_paths):\n",
    "    \"\"\"Process multiple text files and build a combined trigram model.\"\"\"\n",
    "    combined_trigram_counts = defaultdict(int)\n",
    "\n",
    "    for file_path in file_paths:\n",
    "        print(f\"Processing file: {file_path}\")\n",
    "        with open(file_path, 'r', encoding='utf-8') as file:\n",
    "            text = file.read()\n",
    "            processed_text = preprocess_text(text)\n",
    "            build_trigram_model(processed_text, combined_trigram_counts)\n",
    "    \n",
    "    return combined_trigram_counts"
   ]
  },
  {
   "cell_type": "code",
   "execution_count": null,
   "metadata": {},
   "outputs": [],
   "source": [
    "def display_top_trigrams(trigram_counts, top_n=10):\n",
    "    \"\"\"Display the top N most frequent trigrams.\"\"\"\n",
    "    sorted_trigrams = sorted(trigram_counts.items(), key=lambda item: item[1], reverse=True)\n",
    "    print(f\"\\nTop {top_n} most frequent trigrams:\")\n",
    "    for trigram, count in sorted_trigrams[:top_n]:\n",
    "        print(f\"'{trigram}': {count}\")"
   ]
  },
  {
   "cell_type": "code",
   "execution_count": 4,
   "metadata": {},
   "outputs": [
    {
     "name": "stdout",
     "output_type": "stream",
     "text": [
      "'\n",
      "IT': 1\n",
      "'IT ': 2\n",
      "'T I': 3\n",
      "' IS': 3\n",
      "'IS ': 3\n",
      "'S W': 1\n",
      "' WH': 1\n",
      "'WHA': 1\n",
      "'HAT': 1\n",
      "'AT ': 1\n",
      "' IT': 1\n",
      "'IS.': 1\n",
      "'S. ': 1\n",
      "'. T': 1\n",
      "' TH': 2\n",
      "'THI': 1\n",
      "'HIS': 1\n",
      "'S I': 1\n",
      "'S A': 1\n",
      "' AN': 1\n",
      "'AN ': 1\n",
      "'N E': 1\n",
      "' EX': 1\n",
      "'EXA': 1\n",
      "'XAM': 1\n",
      "'AMP': 1\n",
      "'MPL': 1\n",
      "'PLE': 1\n",
      "'LE ': 1\n",
      "'E S': 1\n",
      "' SE': 1\n",
      "'SEN': 1\n",
      "'ENT': 1\n",
      "'NTE': 1\n",
      "'TEN': 1\n",
      "'ENC': 1\n",
      "'NCE': 1\n",
      "'CE ': 1\n",
      "'E F': 1\n",
      "' FO': 1\n",
      "'FOR': 1\n",
      "'OR ': 1\n",
      "'R B': 1\n",
      "' BU': 1\n",
      "'BUI': 1\n",
      "'UIL': 1\n",
      "'ILD': 1\n",
      "'LDI': 1\n",
      "'DIN': 1\n",
      "'ING': 1\n",
      "'NG ': 1\n",
      "'G T': 1\n",
      "'THE': 1\n",
      "'HE ': 1\n",
      "'E T': 1\n",
      "' TR': 1\n",
      "'TRI': 1\n",
      "'RIG': 1\n",
      "'IGR': 1\n",
      "'GRA': 1\n",
      "'RAM': 1\n",
      "'AM ': 1\n",
      "'M M': 1\n",
      "' MO': 1\n",
      "'MOD': 1\n",
      "'ODE': 1\n",
      "'DEL': 1\n",
      "'EL.': 1\n",
      "'L.\n",
      "': 1\n"
     ]
    }
   ],
   "source": [
    "# Example usage:\n",
    "text = \"\"\"\n",
    "It is what it is. This is an example sentence for building the trigram model.\n",
    "\"\"\"\n",
    "\n",
    "# Preprocess the text\n",
    "processed_text = preprocess_text(text)\n",
    "\n",
    "# Build the trigram model\n",
    "trigram_model = build_trigram_model(processed_text)\n",
    "\n",
    "# Print the trigram counts\n",
    "for trigram, count in trigram_model.items():\n",
    "    print(f\"'{trigram}': {count}\")"
   ]
  }
 ],
 "metadata": {
  "kernelspec": {
   "display_name": "Python 3",
   "language": "python",
   "name": "python3"
  },
  "language_info": {
   "codemirror_mode": {
    "name": "ipython",
    "version": 3
   },
   "file_extension": ".py",
   "mimetype": "text/x-python",
   "name": "python",
   "nbconvert_exporter": "python",
   "pygments_lexer": "ipython3",
   "version": "3.11.9"
  }
 },
 "nbformat": 4,
 "nbformat_minor": 2
}
