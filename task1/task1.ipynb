{
 "cells": [
  {
   "cell_type": "markdown",
   "metadata": {},
   "source": [
    "##Below is some example code to show my understanding of some basic python concepts"
   ]
  },
  {
   "cell_type": "code",
   "execution_count": 2,
   "metadata": {},
   "outputs": [],
   "source": [
    "# Python example.\n",
    "def foobar(n):\n",
    "  \"\"\"Prints the numbers from 1 to n, but for multiples of 3 prints \"foo\" instead of the number and for the multiples of 5 prints \"bar\". For numbers which are multiples of both three and five prints \"foobar\".\"\"\"\n",
    "  for i in range(n):\n",
    "    if i % 3 == 0 and i % 5 == 0:\n",
    "      print(\"foobar\")\n",
    "    elif i % 3 == 0:\n",
    "      print(\"foo\")\n",
    "    elif i % 5 == 0:\n",
    "      print(\"bar\")\n",
    "    else:\n",
    "      print(i)"
   ]
  },
  {
   "cell_type": "code",
   "execution_count": 3,
   "metadata": {},
   "outputs": [
    {
     "name": "stdout",
     "output_type": "stream",
     "text": [
      "foobar\n",
      "1\n",
      "2\n",
      "foo\n",
      "4\n",
      "bar\n",
      "foo\n",
      "7\n",
      "8\n",
      "foo\n",
      "bar\n",
      "11\n",
      "foo\n",
      "13\n",
      "14\n",
      "foobar\n"
     ]
    }
   ],
   "source": [
    "foobar(16)"
   ]
  }
 ],
 "metadata": {
  "kernelspec": {
   "display_name": "Python 3",
   "language": "python",
   "name": "python3"
  },
  "language_info": {
   "codemirror_mode": {
    "name": "ipython",
    "version": 3
   },
   "file_extension": ".py",
   "mimetype": "text/x-python",
   "name": "python",
   "nbconvert_exporter": "python",
   "pygments_lexer": "ipython3",
   "version": "3.11.9"
  }
 },
 "nbformat": 4,
 "nbformat_minor": 2
}
